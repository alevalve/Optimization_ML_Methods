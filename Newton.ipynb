{
 "cells": [
  {
   "cell_type": "markdown",
   "metadata": {},
   "source": [
    "NEWTON METHOD\n",
    "\n",
    "Formula:\n",
    "\n",
    "𝑥𝑖=𝑥𝑖−1−𝑔(𝑥𝑖−1)/𝑔′(𝑥𝑖−1)."
   ]
  },
  {
   "cell_type": "code",
   "execution_count": 6,
   "metadata": {},
   "outputs": [
    {
     "name": "stdout",
     "output_type": "stream",
     "text": [
      "estimate = 1.2599210618621084\n"
     ]
    }
   ],
   "source": [
    "## Example 1\n",
    "\n",
    "import numpy as np\n",
    "x_0 = 2.5\n",
    "f = lambda x: x**3 - 2\n",
    "f_prime = lambda x: 3*x**2\n",
    "newton_raphson = x_0 - (f(x_0))/(f_prime(x_0))\n",
    "\n",
    "def my_newton(f, df, x0, tol):\n",
    "    # output is an estimation of the root of f \n",
    "    # using the Newton Raphson method\n",
    "    # recursive implementation\n",
    "    if abs(f(x0)) < tol:\n",
    "        return x0\n",
    "    else:\n",
    "        return my_newton(f, df, x0 - f(x0)/df(x0), tol)\n",
    "\n",
    "estimate = my_newton(f, f_prime, 2.5, 1e-6)\n",
    "print(\"estimate =\", estimate)\n",
    "\n",
    "# For this problem the estimate root when x_0 is 2.5 and the function has the form x^3-2 is 1.25"
   ]
  },
  {
   "cell_type": "code",
   "execution_count": 11,
   "metadata": {},
   "outputs": [
    {
     "name": "stdout",
     "output_type": "stream",
     "text": [
      "x1 = 83.3336249990625\n"
     ]
    }
   ],
   "source": [
    "## Example 2\n",
    "\n",
    "x0 = 0.001\n",
    "x1 = x0-(x0**3-100*x0**2-x0+100)/(3*x0**2-200*x0-1)\n",
    "print(\"x1 =\", x1) \n",
    "## One of the roots respect x0 = 0.001 is 83.33, therefore, this will be the value that will be the location where the function is optimized in this case \n",
    "# Newthon method will go away from the minimum because we are obtaining its derivative, so the step will be very large and far away from the root."
   ]
  }
 ],
 "metadata": {
  "kernelspec": {
   "display_name": "Python 3.10.7 64-bit",
   "language": "python",
   "name": "python3"
  },
  "language_info": {
   "codemirror_mode": {
    "name": "ipython",
    "version": 3
   },
   "file_extension": ".py",
   "mimetype": "text/x-python",
   "name": "python",
   "nbconvert_exporter": "python",
   "pygments_lexer": "ipython3",
   "version": "3.10.7"
  },
  "orig_nbformat": 4,
  "vscode": {
   "interpreter": {
    "hash": "aee8b7b246df8f9039afb4144a1f6fd8d2ca17a180786b69acc140d282b71a49"
   }
  }
 },
 "nbformat": 4,
 "nbformat_minor": 2
}
